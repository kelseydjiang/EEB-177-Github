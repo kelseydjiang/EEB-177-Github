{
 "cells": [
  {
   "cell_type": "markdown",
   "metadata": {},
   "source": [
    "## Questions:\n",
    "\n",
    "How many fossils are included in the dataset?  \n",
    "How many fossils have been identified to genus-level only? How many to species-level?  \n",
    "How many unique accepted names are part of this dataset?  "
   ]
  },
  {
   "cell_type": "markdown",
   "metadata": {},
   "source": [
    "- tail -n +2 canid_occ.csv | wc -l  \n",
    "    - 2946 fossils included in the dataset\n",
    "- tail -n +2 canid_occ.csv | grep genus | wc -l , tail -n +2 canid_occ.csv | grep species | wc -l  \n",
    "    - 614 fossils in genus-level, 2107 fossils in species-level\n",
    "- tail -n +2 canid_occ.csv | cut -d',' -f6 | sort | uniq | wc -l  \n",
    "    - 211 fossils in accepted names dataset  "
   ]
  },
  {
   "cell_type": "markdown",
   "metadata": {
    "collapsed": true
   },
   "source": [
    "## More Questions:\n",
    "\n",
    "How can we change the sampling frequency of our PyRate run?  \n",
    "What does the -n flag achieve?  "
   ]
  },
  {
   "cell_type": "markdown",
   "metadata": {},
   "source": [
    "- Use the command -s (#) <- # = your desired sampling frequency   \n",
    "- The -n command stands for mcmc generations <- MCMC may stand for Markov Chain Monte Carlo method used for sampling?"
   ]
  },
  {
   "cell_type": "markdown",
   "metadata": {},
   "source": [
    "## Summarizing the Output of PyRate"
   ]
  },
  {
   "cell_type": "markdown",
   "metadata": {},
   "source": [
    "- sum.txt = is a text file providing the complete list of settings used in the analysis  \n",
    "- mcmc.log = is a file that has tab-separated tables with the MCMC samples of the posterior, prior, likelihoods of the preservation process and of the birth-death, the q-rate, alpha, k-birth, k-death, root-age, tot-length, and the times of speciation and extinction of all taxa in the data set.   \n",
    "- marginal_rate.log = a file that has tab-separated tables with the posterior samples of the marginal rates of speciation, extinction, and net diversification, calculated within 1 time unit  "
   ]
  },
  {
   "cell_type": "code",
   "execution_count": null,
   "metadata": {
    "collapsed": true
   },
   "outputs": [],
   "source": []
  }
 ],
 "metadata": {
  "anaconda-cloud": {},
  "kernelspec": {
   "display_name": "Python [conda root]",
   "language": "python",
   "name": "conda-root-py"
  },
  "language_info": {
   "codemirror_mode": {
    "name": "ipython",
    "version": 3
   },
   "file_extension": ".py",
   "mimetype": "text/x-python",
   "name": "python",
   "nbconvert_exporter": "python",
   "pygments_lexer": "ipython3",
   "version": "3.5.2"
  }
 },
 "nbformat": 4,
 "nbformat_minor": 2
}
