{
 "cells": [
  {
   "cell_type": "code",
   "execution_count": 1,
   "metadata": {
    "collapsed": false
   },
   "outputs": [
    {
     "ename": "SyntaxError",
     "evalue": "invalid syntax (<ipython-input-1-1f88da19ed0e>, line 1)",
     "output_type": "error",
     "traceback": [
      "\u001b[0;36m  File \u001b[0;32m\"<ipython-input-1-1f88da19ed0e>\"\u001b[0;36m, line \u001b[0;32m1\u001b[0m\n\u001b[0;31m    set \"a\" equal to 3\u001b[0m\n\u001b[0m          ^\u001b[0m\n\u001b[0;31mSyntaxError\u001b[0m\u001b[0;31m:\u001b[0m invalid syntax\n"
     ]
    }
   ],
   "source": [
    "set \"a\" equal to 3\n",
    "set \"b\" equal to 17\n",
    "set \"c\" equal to the sum of a and b \n",
    "set \"favorite_animal\" to one of your favorite animals\n",
    "set \"favorite_dinners\" to a list of three of your favorite dinners\n",
    "set \"num_fav_dinners\" to the number of items in your \"favorite_dinners\""
   ]
  },
  {
   "cell_type": "code",
   "execution_count": 5,
   "metadata": {
    "collapsed": false
   },
   "outputs": [
    {
     "data": {
      "text/plain": [
       "20"
      ]
     },
     "execution_count": 5,
     "metadata": {},
     "output_type": "execute_result"
    }
   ],
   "source": [
    "a = 3\n",
    "b = 17\n",
    "\n",
    "a + b"
   ]
  },
  {
   "cell_type": "code",
   "execution_count": 6,
   "metadata": {
    "collapsed": false
   },
   "outputs": [],
   "source": [
    "c = 20"
   ]
  },
  {
   "cell_type": "code",
   "execution_count": 7,
   "metadata": {
    "collapsed": false
   },
   "outputs": [
    {
     "data": {
      "text/plain": [
       "3"
      ]
     },
     "execution_count": 7,
     "metadata": {},
     "output_type": "execute_result"
    }
   ],
   "source": [
    "c - b"
   ]
  },
  {
   "cell_type": "code",
   "execution_count": 8,
   "metadata": {
    "collapsed": false
   },
   "outputs": [
    {
     "data": {
      "text/plain": [
       "17"
      ]
     },
     "execution_count": 8,
     "metadata": {},
     "output_type": "execute_result"
    }
   ],
   "source": [
    "c - a"
   ]
  },
  {
   "cell_type": "code",
   "execution_count": 9,
   "metadata": {
    "collapsed": true
   },
   "outputs": [],
   "source": [
    "favorite_animal = \"red panda\""
   ]
  },
  {
   "cell_type": "code",
   "execution_count": 10,
   "metadata": {
    "collapsed": false
   },
   "outputs": [
    {
     "data": {
      "text/plain": [
       "'red panda'"
      ]
     },
     "execution_count": 10,
     "metadata": {},
     "output_type": "execute_result"
    }
   ],
   "source": [
    "favorite_animal"
   ]
  },
  {
   "cell_type": "code",
   "execution_count": 11,
   "metadata": {
    "collapsed": true
   },
   "outputs": [],
   "source": [
    "favorite_dinners = \"mac & cheese\", \"teriyaki salmon\", \"taco bowls\""
   ]
  },
  {
   "cell_type": "code",
   "execution_count": 12,
   "metadata": {
    "collapsed": false
   },
   "outputs": [
    {
     "data": {
      "text/plain": [
       "('mac & cheese', 'teriyaki salmon', 'taco bowls')"
      ]
     },
     "execution_count": 12,
     "metadata": {},
     "output_type": "execute_result"
    }
   ],
   "source": [
    "favorite_dinners"
   ]
  },
  {
   "cell_type": "code",
   "execution_count": 15,
   "metadata": {
    "collapsed": false
   },
   "outputs": [
    {
     "data": {
      "text/plain": [
       "3"
      ]
     },
     "execution_count": 15,
     "metadata": {},
     "output_type": "execute_result"
    }
   ],
   "source": [
    "len(favorite_dinners)"
   ]
  },
  {
   "cell_type": "code",
   "execution_count": 16,
   "metadata": {
    "collapsed": true
   },
   "outputs": [],
   "source": [
    "num_fav_dinners = len(favorite_dinners)"
   ]
  },
  {
   "cell_type": "code",
   "execution_count": 17,
   "metadata": {
    "collapsed": false
   },
   "outputs": [
    {
     "data": {
      "text/plain": [
       "3"
      ]
     },
     "execution_count": 17,
     "metadata": {},
     "output_type": "execute_result"
    }
   ],
   "source": [
    "num_fav_dinners"
   ]
  },
  {
   "cell_type": "code",
   "execution_count": 16,
   "metadata": {
    "collapsed": true
   },
   "outputs": [],
   "source": [
    "def hw3_function(int):\n",
    "    if (type(int) == str):\n",
    "        return \"Error! Please input an integer.\"\n",
    "    else:\n",
    "        if (int < 5):\n",
    "            return \"Brr! It's cold!\"\n",
    "        elif (int > 5 and int < 25):\n",
    "            return \"What a pleasant temperature!\"\n",
    "        elif (int > 25):\n",
    "            return \"It's pretty warm!\""
   ]
  },
  {
   "cell_type": "code",
   "execution_count": 17,
   "metadata": {
    "collapsed": false
   },
   "outputs": [
    {
     "data": {
      "text/plain": [
       "'What a pleasant temperature!'"
      ]
     },
     "execution_count": 17,
     "metadata": {},
     "output_type": "execute_result"
    }
   ],
   "source": [
    "hw3_function(20)"
   ]
  },
  {
   "cell_type": "code",
   "execution_count": 19,
   "metadata": {
    "collapsed": false
   },
   "outputs": [
    {
     "data": {
      "text/plain": [
       "'Error! Please input an integer.'"
      ]
     },
     "execution_count": 19,
     "metadata": {},
     "output_type": "execute_result"
    }
   ],
   "source": [
    "hw3_function(\"cats\")"
   ]
  },
  {
   "cell_type": "code",
   "execution_count": 16,
   "metadata": {
    "collapsed": true
   },
   "outputs": [],
   "source": [
    "import re\n",
    "dna = \"ATAATTAACGGAGCTTATTA\""
   ]
  },
  {
   "cell_type": "code",
   "execution_count": 29,
   "metadata": {
    "collapsed": false
   },
   "outputs": [
    {
     "name": "stdout",
     "output_type": "stream",
     "text": [
      "['GAGC']\n"
     ]
    }
   ],
   "source": [
    "print(re.findall(pattern=\"G[A|T][T|G|A][T|G|C]\", string=dna))"
   ]
  },
  {
   "cell_type": "code",
   "execution_count": 21,
   "metadata": {
    "collapsed": false
   },
   "outputs": [
    {
     "name": "stdout",
     "output_type": "stream",
     "text": [
      "resitriction site found!\n"
     ]
    }
   ],
   "source": [
    "dna = \"ATAATTAACGGAGCTTATTA\"\n",
    "if re.search(r\"GA|TA|TGA|T|G|C\", dna):\n",
    "    print(\"resitriction site found!\")"
   ]
  },
  {
   "cell_type": "code",
   "execution_count": 32,
   "metadata": {
    "collapsed": false
   },
   "outputs": [
    {
     "name": "stdout",
     "output_type": "stream",
     "text": [
      "You picked rock; Computer picked paper; +1 for Computer!\n",
      "Please select either rock, paper, or scissors.\n"
     ]
    }
   ],
   "source": [
    "import random\n",
    "def rps(my_choice):\n",
    "    computer_choice = random.choice([\"rock\", \"paper\", \"scissors\"])\n",
    "    if (my_choice != \"rock\" and my_choice != \"paper\" and my_choice != \"scissors\"):\n",
    "        print(\"Please select either rock, paper, or scissors.\")\n",
    "    elif (my_choice == computer_choice):\n",
    "        print(\"You picked \" + my_choice + \"; Computer picked \" + computer_choice + \"; this is a tie!\")\n",
    "    elif (my_choice == \"rock\"):\n",
    "        if (computer_choice == \"paper\"):\n",
    "            print(\"You picked \" + my_choice + \"; Computer picked \" + computer_choice + \"; +1 for Computer!\")\n",
    "        else:\n",
    "            print(\"You picked \" + my_choice + \"; Computer picked \" + computer_choice + \"; +1 for You!\")\n",
    "    elif (my_choice == \"paper\"):\n",
    "        if (computer_choice == \"rock\"):\n",
    "            print(\"You picked \" + my_choice + \"; Computer picked \" + computer_choice + \"; +1 for You!\")\n",
    "        else:\n",
    "            print(\"You picked \" + my_choice + \"; Computer picked \" + computer_choice + \"; +1 for Computer!\")\n",
    "    elif (my_choice == \"scissors\"):\n",
    "        if (computer_choice == \"rock\"):\n",
    "            print(\"You picked \" + my_choice + \"; Computer picked \" + computer_choice + \"; +1 for Computer!\")\n",
    "        else:\n",
    "            print(\"You picked \" + my_choice + \"; Computer picked \" + computer_choice + \"; +1 for You!\")\n",
    "\n",
    "rps(\"rock\")\n",
    "rps(\"a\")"
   ]
  },
  {
   "cell_type": "code",
   "execution_count": null,
   "metadata": {
    "collapsed": true
   },
   "outputs": [],
   "source": []
  }
 ],
 "metadata": {
  "anaconda-cloud": {},
  "kernelspec": {
   "display_name": "Python [conda root]",
   "language": "python",
   "name": "conda-root-py"
  },
  "language_info": {
   "codemirror_mode": {
    "name": "ipython",
    "version": 3
   },
   "file_extension": ".py",
   "mimetype": "text/x-python",
   "name": "python",
   "nbconvert_exporter": "python",
   "pygments_lexer": "ipython3",
   "version": "3.5.2"
  }
 },
 "nbformat": 4,
 "nbformat_minor": 2
}
