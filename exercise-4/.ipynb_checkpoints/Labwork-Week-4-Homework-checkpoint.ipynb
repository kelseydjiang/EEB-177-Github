{
 "cells": [
  {
   "cell_type": "markdown",
   "metadata": {},
   "source": [
    "1. Write a for-loop that prints out the numbers from 100 to 110.\n",
    "2. Write a while- loop that prints out the numbers from 100 to 110.  \n",
    "3. Write a loop that prints out the squares of the numbers from 10-15. This can be a for or a while loop.\n",
    "4. Write a loop that iterates over the list [\"Scooby\", \"Shaggy\", \"Velma\", \"Daphne\", \"Fred\"] and for each character prints the statement \"XXX is a character in that most glorious of cartoons, Scooby Doo\". \n",
    "5. Write a function that meets the following criteria:\n",
    "\n",
    "<pre>\n",
    "1. The function must be named \"fact_or_sum\"   \n",
    "2. The function must take in one input, which must be an integer. If the user inputs a string, the function should return an error message.\n",
    "3. If the input integer is 0, the function returns the number 0.  \n",
    "4. If the input integer is an odd number, the function returns the factorial of the number. \n",
    "4a. A factorial is computed as the product of a number and each integer below that number, until 1 (e.g. n*(n-1)*(n-2)...*1)\n",
    "5. The factorial MUST be computed with a for loop. \n",
    "6. If the input integer is an even number, the function returns the sum of that number and all numbers below it, until 1 (e.g. n+(n-1)+(n-2)...+1).\n",
    "6a. The sum must be computed with a while loop.\n",
    "</pre>"
   ]
  },
  {
   "cell_type": "code",
   "execution_count": 1,
   "metadata": {
    "collapsed": false
   },
   "outputs": [
    {
     "name": "stdout",
     "output_type": "stream",
     "text": [
      "100\n",
      "101\n",
      "102\n",
      "103\n",
      "104\n",
      "105\n",
      "106\n",
      "107\n",
      "108\n",
      "109\n",
      "110\n"
     ]
    }
   ],
   "source": [
    "numerical_list = [100,101,102,103,104,105,106,107,108,109,110]\n",
    "\n",
    "for current_number in numerical_list:\n",
    "    print(str(current_number))"
   ]
  },
  {
   "cell_type": "code",
   "execution_count": 1,
   "metadata": {
    "collapsed": false
   },
   "outputs": [
    {
     "name": "stdout",
     "output_type": "stream",
     "text": [
      "[100, 101, 102, 103, 104, 105, 106, 107, 108, 109, 110]\n"
     ]
    }
   ],
   "source": [
    "numerical_list = [100,101,102,103,104,105,106,107,108,109,110]\n",
    "number = 100\n",
    "while number < 110:\n",
    "    number = number +1\n",
    "print(numerical_list)"
   ]
  },
  {
   "cell_type": "code",
   "execution_count": 3,
   "metadata": {
    "collapsed": false
   },
   "outputs": [
    {
     "name": "stdout",
     "output_type": "stream",
     "text": [
      "[100, 121, 144, 169, 196, 225]\n"
     ]
    }
   ],
   "source": [
    "list_of_squares = []\n",
    "number = 10\n",
    "while number < 16:\n",
    "    list_of_squares.append(number**2)\n",
    "    number = number +1\n",
    "print(list_of_squares)"
   ]
  },
  {
   "cell_type": "code",
   "execution_count": 17,
   "metadata": {
    "collapsed": false
   },
   "outputs": [
    {
     "name": "stdout",
     "output_type": "stream",
     "text": [
      "Scooby is a character in that most glorious of cartoons, Scooby Doo.\n",
      "Shaggy is a character in that most glorious of cartoons, Scooby Doo.\n",
      "Velma is a character in that most glorious of cartoons, Scooby Doo.\n",
      "Daphne is a character in that most glorious of cartoons, Scooby Doo.\n",
      "Fred is a character in that most glorious of cartoons, Scooby Doo.\n"
     ]
    }
   ],
   "source": [
    "set_to_iterate_over = [\"Scooby\", \"Shaggy\", \"Velma\", \"Daphne\", \"Fred\"]\n",
    "\n",
    "for current_item in set_to_iterate_over:\n",
    "    print(str(current_item) + \" is a character in that most glorious of cartoons, Scooby Doo.\")"
   ]
  },
  {
   "cell_type": "code",
   "execution_count": 55,
   "metadata": {
    "collapsed": false
   },
   "outputs": [
    {
     "data": {
      "text/plain": [
       "'Error. Please input an integer!'"
      ]
     },
     "execution_count": 55,
     "metadata": {},
     "output_type": "execute_result"
    }
   ],
   "source": [
    "def fact_or_sum(x):\n",
    "    if (type(x) == str):\n",
    "        return(\"Error. Please input an integer!\")\n",
    "    else:\n",
    "        if (x == 0):\n",
    "            return(0)\n",
    "        elif (x%2 == 0):\n",
    "            current_number = 0\n",
    "            while x > 0:\n",
    "                current_number = current_number + x\n",
    "                x = x - 1\n",
    "            return(current_number)\n",
    "        elif (x%2 == 1):\n",
    "            odd_number = 1\n",
    "            for integer in (range(x,0,-1)):\n",
    "                odd_number = odd_number * integer\n",
    "                integer = integer - 1\n",
    "            return(odd_number)\n",
    "   \n",
    "fact_or_sum(\"Hi\")       "
   ]
  },
  {
   "cell_type": "code",
   "execution_count": 57,
   "metadata": {
    "collapsed": false
   },
   "outputs": [
    {
     "data": {
      "text/plain": [
       "21"
      ]
     },
     "execution_count": 57,
     "metadata": {},
     "output_type": "execute_result"
    }
   ],
   "source": [
    "fact_or_sum(6)"
   ]
  },
  {
   "cell_type": "code",
   "execution_count": 54,
   "metadata": {
    "collapsed": false
   },
   "outputs": [
    {
     "data": {
      "text/plain": [
       "120"
      ]
     },
     "execution_count": 54,
     "metadata": {},
     "output_type": "execute_result"
    }
   ],
   "source": [
    "fact_or_sum(5)"
   ]
  },
  {
   "cell_type": "code",
   "execution_count": null,
   "metadata": {
    "collapsed": true
   },
   "outputs": [],
   "source": []
  }
 ],
 "metadata": {
  "anaconda-cloud": {},
  "kernelspec": {
   "display_name": "Python [conda root]",
   "language": "python",
   "name": "conda-root-py"
  },
  "language_info": {
   "codemirror_mode": {
    "name": "ipython",
    "version": 3
   },
   "file_extension": ".py",
   "mimetype": "text/x-python",
   "name": "python",
   "nbconvert_exporter": "python",
   "pygments_lexer": "ipython3",
   "version": "3.5.2"
  }
 },
 "nbformat": 4,
 "nbformat_minor": 2
}
