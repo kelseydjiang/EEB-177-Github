{
 "cells": [
  {
   "cell_type": "markdown",
   "metadata": {},
   "source": [
    "# Analysing Sequence Data"
   ]
  },
  {
   "cell_type": "code",
   "execution_count": 53,
   "metadata": {
    "collapsed": false
   },
   "outputs": [],
   "source": [
    "my_file = open(\"/home/eeb177-student/Desktop/eeb-177/CSB/unix/data/Marra2014_data.fasta\")\n",
    "file_contents = my_file.read()\n",
    "\n",
    "#print(file_contents)"
   ]
  },
  {
   "cell_type": "code",
   "execution_count": 54,
   "metadata": {
    "collapsed": true
   },
   "outputs": [],
   "source": [
    "reformatted_marra = open(\"reformatted_marra.csv\", \"w\")\n",
    "ContigDict = {}\n",
    "import re\n",
    "contig_name = re.findall(\">(\\w*)\\s.*\", file_contents)"
   ]
  },
  {
   "cell_type": "code",
   "execution_count": 55,
   "metadata": {
    "collapsed": false
   },
   "outputs": [],
   "source": [
    "file_contents = file_contents.replace(\"\\n\", \"\")\n",
    "file_contents = file_contents.replace(\">\", \"\\n\")\n",
    "#print(file_contents)"
   ]
  },
  {
   "cell_type": "code",
   "execution_count": 56,
   "metadata": {
    "collapsed": true
   },
   "outputs": [],
   "source": [
    "new_file_contents = open(\"new_file_contents.txt\", \"w\")\n",
    "new_file_contents.write(file_contents)\n",
    "new_file_contents = open(\"new_file_contents.txt\")"
   ]
  },
  {
   "cell_type": "code",
   "execution_count": 57,
   "metadata": {
    "collapsed": false
   },
   "outputs": [],
   "source": [
    "aatg_numreads = []\n",
    "\n",
    "for sequence in new_file_contents:\n",
    "    numreads = sequence.count(\"AATG\")\n",
    "    aatg_numreads.append(numreads)"
   ]
  },
  {
   "cell_type": "code",
   "execution_count": 58,
   "metadata": {
    "collapsed": false
   },
   "outputs": [
    {
     "name": "stdout",
     "output_type": "stream",
     "text": [
      "{'contig00584': 10, 'contig00396': 0, 'contig00042': 5, 'contig00812': 1, 'contig01191': 0, 'contig00917': 8, 'contig01012': 0, 'contig00420': 0, 'contig00148': 1, 'contig00363': 10, 'contig00691': 0, 'contig01143': 1, 'contig01092': 1, 'contig00665': 1, 'contig00454': 0, 'contig01273': 1, 'contig00011': 0, 'contig01175': 1, 'contig00842': 3, 'contig00708': 0, 'contig00292': 1, 'contig00219': 0, 'contig00224': 1, 'contig01253': 0, 'contig00546': 0, 'contig00207': 0, 'contig01112': 0, 'contig01325': 0, 'contig00956': 0, 'contig00197': 0, 'contig00778': 1, 'contig01110': 0, 'contig00922': 5, 'contig00442': 0, 'contig01134': 1, 'contig00561': 6, 'contig00273': 0, 'contig00993': 4, 'contig00194': 1, 'contig00672': 1, 'contig01227': 0, 'contig01309': 2, 'contig00954': 0, 'contig00166': 0, 'contig00332': 0, 'contig00890': 0, 'contig01268': 0, 'contig00806': 1, 'contig00671': 1, 'contig01168': 2, 'contig00023': 4, 'contig01023': 5, 'contig01158': 2, 'contig01094': 1, 'contig00512': 0, 'contig00879': 1, 'contig01145': 0, 'contig00432': 1, 'contig01347': 3, 'contig00829': 7, 'contig00595': 1, 'contig01222': 1, 'contig00669': 1, 'contig00433': 1, 'contig00479': 2, 'contig00680': 0, 'contig01193': 0, 'contig00359': 0, 'contig00099': 0, 'contig00713': 9, 'contig01144': 1, 'contig00984': 1, 'contig00318': 0, 'contig01229': 4, 'contig00415': 2, 'contig01075': 0, 'contig00742': 0, 'contig01117': 1, 'contig00349': 0, 'contig01159': 3, 'contig00061': 4, 'contig00734': 5, 'contig00975': 1, 'contig00974': 1, 'contig00398': 1, 'contig00574': 1, 'contig00393': 0, 'contig00218': 0, 'contig01018': 0, 'contig01098': 1, 'contig00277': 1, 'contig00851': 4, 'contig00385': 2, 'contig01008': 1, 'contig00545': 2, 'contig00505': 1, 'contig00165': 0, 'contig01040': 1, 'contig00607': 0, 'contig00078': 1, 'contig01101': 1, 'contig00909': 0, 'contig00504': 4, 'contig01161': 2, 'contig00508': 5, 'contig00920': 9, 'contig01106': 2, 'contig00808': 1, 'contig00845': 2, 'contig01066': 3, 'contig00050': 2, 'contig01338': 2, 'contig00158': 1, 'contig00783': 2, 'contig00217': 0, 'contig00962': 1, 'contig00620': 0, 'contig01005': 4, 'contig01051': 1, 'contig01128': 5, 'contig00193': 1, 'contig00320': 1, 'contig00412': 0, 'contig00827': 1, 'contig01049': 1, 'contig00128': 2, 'contig00345': 0, 'contig01182': 0, 'contig00770': 12, 'contig01096': 20, 'contig00410': 1, 'contig00774': 2, 'contig00940': 2, 'contig01294': 1, 'contig01220': 2, 'contig00352': 0, 'contig01171': 2, 'contig01174': 0, 'contig00064': 0, 'contig00703': 1, 'contig00145': 4, 'contig00253': 4, 'contig00978': 1, 'contig00478': 4, 'contig00118': 1, 'contig00309': 2, 'contig01263': 0, 'contig01081': 0, 'contig00670': 2, 'contig00513': 3, 'contig00994': 10, 'contig01213': 0, 'contig00239': 20, 'contig00244': 0, 'contig00389': 16, 'contig00486': 0, 'contig01030': 0, 'contig00107': 2, 'contig00663': 0, 'contig00124': 0, 'contig01378': 7, 'contig00693': 1, 'contig00195': 0, 'contig00825': 4, 'contig00960': 1, 'contig00903': 13, 'contig01236': 2, 'contig00549': 0, 'contig01033': 1, 'contig00169': 4, 'contig00259': 7, 'contig01015': 2, 'contig00302': 4, 'contig01083': 1, 'contig00168': 0, 'contig00862': 4, 'contig00688': 1, 'contig00022': 13, 'contig01323': 4, 'contig00384': 2, 'contig00557': 0, 'contig00517': 2, 'contig00404': 2, 'contig00633': 1, 'contig00824': 0, 'contig00569': 12, 'contig01003': 1, 'contig01004': 6, 'contig01197': 3, 'contig00882': 1, 'contig00483': 2, 'contig00967': 0, 'contig01029': 1, 'contig01262': 1, 'contig00601': 0, 'contig00872': 5, 'contig00651': 0, 'contig00044': 3, 'contig00894': 2, 'contig00223': 2, 'contig01206': 2, 'contig00537': 1, 'contig00001': 0, 'contig01288': 8, 'contig01080': 0, 'contig00772': 2, 'contig00102': 0, 'contig00609': 0, 'contig00516': 5, 'contig00730': 0, 'contig01364': 4, 'contig00610': 0, 'contig00171': 0, 'contig00762': 1, 'contig00361': 0, 'contig00476': 1, 'contig01127': 1, 'contig00804': 0, 'contig01209': 1, 'contig00844': 0, 'contig00439': 2, 'contig00048': 7, 'contig00727': 5, 'contig00576': 0, 'contig00822': 14, 'contig01028': 0, 'contig01226': 4, 'contig00522': 0, 'contig01248': 0, 'contig00548': 2, 'contig00206': 0, 'contig00786': 1, 'contig00780': 0, 'contig00238': 13, 'contig01319': 1, 'contig00694': 1, 'contig00779': 1, 'contig00976': 0, 'contig00596': 1, 'contig00676': 1, 'contig01046': 2, 'contig00775': 1, 'contig00554': 0, 'contig00246': 0, 'contig00135': 2, 'contig00709': 1, 'contig00793': 0, 'contig00767': 1, 'contig01300': 11, 'contig00885': 1, 'contig01299': 1, 'contig00453': 1, 'contig00457': 0, 'contig00529': 0, 'contig00598': 0, 'contig00416': 0, 'contig00235': 5, 'contig00090': 0, 'contig00992': 29, 'contig01032': 0, 'contig01281': 1, 'contig00802': 0, 'contig00948': 2, 'contig00929': 0, 'contig01071': 0, 'contig00944': 0, 'contig01331': 8, 'contig00511': 1, 'contig00514': 5, 'contig00226': 1, 'contig00587': 2, 'contig00034': 1, 'contig01115': 3, 'contig00105': 0, 'contig00914': 2, 'contig01255': 1, 'contig00096': 0, 'contig00697': 0, 'contig01202': 0, 'contig01302': 0, 'contig00188': 0, 'contig00082': 0, 'contig00951': 7, 'contig01006': 1, 'contig00573': 0, 'contig00603': 0, 'contig00705': 0, 'contig00874': 5, 'contig00540': 7, 'contig00941': 10, 'contig00241': 27, 'contig01016': 0, 'contig01254': 1, 'contig01055': 1, 'contig00553': 0, 'contig00214': 1, 'contig00189': 1, 'contig00965': 0, 'contig01156': 0, 'contig00787': 4, 'contig00710': 3, 'contig00181': 0, 'contig00488': 1, 'contig00987': 6, 'contig01310': 3, 'contig00552': 0, 'contig00052': 1, 'contig00176': 1, 'contig01153': 4, 'contig00464': 1, 'contig00567': 0, 'contig01105': 3, 'contig00910': 3, 'contig01252': 0, 'contig00005': 1, 'contig01208': 0, 'contig00563': 4, 'contig00578': 4, 'contig00495': 1, 'contig00036': 2, 'contig00490': 0, 'contig00869': 5, 'contig00896': 5, 'contig00732': 0, 'contig00084': 0, 'contig00435': 1, 'contig00254': 2, 'contig00484': 0, 'contig01201': 0, 'contig01078': 1, 'contig00626': 1, 'contig00550': 1, 'contig01373': 17, 'contig00510': 5, 'contig00260': 0, 'contig00257': 1, 'contig00721': 0, 'contig00133': 2, 'contig00731': 1, 'contig00818': 3, 'contig00826': 1, 'contig01380': 2, 'contig00500': 0, 'contig00515': 0, 'contig01321': 2, 'contig00631': 0, 'contig01374': 0, 'contig01090': 1, 'contig01297': 4, 'contig01186': 1, 'contig01021': 1, 'contig01188': 0, 'contig00467': 1, 'contig00057': 2, 'contig01113': 1, 'contig00295': 0, 'contig01340': 2, 'contig00769': 1, 'contig01165': 1, 'contig00690': 0, 'contig00502': 0, 'contig01235': 5, 'contig00753': 4, 'contig01246': 7, 'contig00470': 1, 'contig00373': 1, 'contig00122': 0, 'contig00357': 2, 'contig00187': 1, 'contig00854': 0, 'contig01107': 0, 'contig00149': 2, 'contig00668': 0, 'contig01116': 20, 'contig01385': 28, 'contig00839': 0, 'contig00986': 9, 'contig00743': 0, 'contig00791': 2, 'contig00706': 0, 'contig00952': 4, 'contig01251': 0, 'contig00422': 0, 'contig00072': 0, 'contig00086': 4, 'contig01013': 0, 'contig00428': 0, 'contig00358': 9, 'contig00828': 0, 'contig00427': 0, 'contig01020': 7, 'contig00472': 0, 'contig00718': 0, 'contig01179': 4, 'contig01154': 1, 'contig00562': 1, 'contig01057': 1, 'contig00443': 0, 'contig01185': 0, 'contig00848': 0, 'contig00437': 0, 'contig01104': 2, 'contig00161': 3, 'contig01045': 3, 'contig00819': 2, 'contig00905': 1, 'contig00262': 0, 'contig01039': 3, 'contig00278': 0, 'contig00930': 1, 'contig00701': 1, 'contig01124': 0, 'contig00771': 0, 'contig00055': 2, 'contig00756': 4, 'contig00170': 0, 'contig00655': 0, 'contig00532': 0, 'contig00611': 1, 'contig00907': 3, 'contig00973': 9, 'contig00832': 1, 'contig00242': 3, 'contig00981': 7, 'contig01292': 4, 'contig00013': 1, 'contig00056': 0, 'contig00551': 10, 'contig01345': 0, 'contig01295': 3, 'contig00835': 1, 'contig00126': 3, 'contig00436': 1, 'contig00919': 2, 'contig00249': 11, 'contig00387': 1, 'contig00685': 1, 'contig01025': 2, 'contig00286': 0, 'contig00372': 3, 'contig00354': 0, 'contig00032': 0, 'contig00943': 0, 'contig00081': 0, 'contig01360': 0, 'contig00821': 0, 'contig00186': 1, 'contig00958': 0, 'contig01258': 1, 'contig00972': 5, 'contig00018': 6, 'contig00813': 0, 'contig00074': 0, 'contig01052': 2, 'contig00809': 0, 'contig00720': 0, 'contig00991': 0, 'contig00471': 0, 'contig00494': 0, 'contig00525': 6, 'contig00140': 2, 'contig00675': 1, 'contig00871': 0, 'contig00864': 0, 'contig00699': 2, 'contig00213': 1, 'contig00191': 0, 'contig01334': 0, 'contig00144': 2, 'contig00509': 2, 'contig01138': 0, 'contig01169': 0, 'contig01353': 0, 'contig00451': 1, 'contig00840': 3, 'contig01163': 0, 'contig00902': 7, 'contig01357': 0, 'contig00527': 0, 'contig00834': 3, 'contig01312': 2, 'contig00392': 0, 'contig00174': 0, 'contig00049': 0, 'contig01041': 19, 'contig01341': 1, 'contig00383': 0, 'contig01356': 0, 'contig00503': 2, 'contig00094': 0, 'contig00402': 1, 'contig00641': 0, 'contig01195': 1, 'contig00046': 1, 'contig00777': 0, 'contig00711': 1, 'contig01027': 0, 'contig00360': 0, 'contig00211': 0, 'contig00803': 0, 'contig01287': 13, 'contig00208': 1, 'contig00715': 0, 'contig01346': 0, 'contig00258': 1, 'contig01372': 0, 'contig01225': 0, 'contig00784': 1, 'contig00482': 0, 'contig00364': 1, 'contig01199': 0, 'contig00648': 0, 'contig00497': 0, 'contig01050': 1, 'contig01358': 1, 'contig00858': 0, 'contig00738': 0, 'contig01148': 0, 'contig01056': 4, 'contig01259': 0, 'contig00014': 4, 'contig01109': 1, 'contig00617': 1, 'contig00729': 1, 'contig00807': 2, 'contig00430': 0, 'contig01326': 20, 'contig00625': 0, 'contig00886': 2, 'contig00017': 7, 'contig01218': 0, 'contig01177': 0, 'contig00058': 0, 'contig00859': 0, 'contig00029': 1, 'contig01271': 1, 'contig01072': 2, 'contig00409': 1, 'contig00912': 9, 'contig01282': 17, 'contig01269': 1, 'contig00740': 1, 'contig01336': 4, 'contig01074': 0, 'contig00097': 0, 'contig00173': 2, 'contig00154': 0, 'contig00465': 1, 'contig00283': 0, 'contig00650': 1, 'contig00353': 0, 'contig00130': 2, 'contig01243': 19, 'contig01320': 0, 'contig00015': 0, 'contig00942': 1, 'contig00440': 0, 'contig00737': 0, 'contig01272': 2, 'contig00955': 0, 'contig01318': 0, 'contig00423': 0, 'contig00629': 0, 'contig00969': 5, 'contig00175': 3, 'contig00604': 0, 'contig00591': 2, 'contig00125': 4, 'contig00152': 0, 'contig00739': 0, 'contig01313': 20, 'contig00988': 3, 'contig01061': 1, 'contig00205': 0, 'contig00394': 0, 'contig01283': 5, 'contig01111': 1, 'contig00639': 2, 'contig00725': 0, 'contig00863': 0, 'contig00817': 0, 'contig01014': 1, 'contig01042': 0, 'contig01060': 3, 'contig00801': 0, 'contig00776': 2, 'contig00010': 3, 'contig00033': 0, 'contig01129': 0, 'contig00035': 3, 'contig01170': 1, 'contig00376': 2, 'contig01121': 1, 'contig00438': 0, 'contig00356': 3, 'contig01316': 1, 'contig00406': 3, 'contig01335': 1, 'contig00202': 3, 'contig01010': 0, 'contig00045': 0, 'contig01368': 7, 'contig01264': 4, 'contig00765': 4, 'contig00059': 2, 'contig00380': 0, 'contig00230': 0, 'contig00766': 2, 'contig00129': 1, 'contig00228': 5, 'contig01149': 4, 'contig00414': 1, 'contig01238': 2, 'contig00528': 2, 'contig00210': 2, 'contig01314': 2, 'contig00530': 4, 'contig01140': 2, 'contig00895': 2, 'contig01063': 0, 'contig00724': 1, 'contig00180': 0, 'contig00661': 2, 'contig00016': 1, 'contig00342': 0, 'contig00660': 1, 'contig00233': 0, 'contig00704': 0, 'contig00983': 8, 'contig01267': 0, 'contig00351': 0, 'contig00536': 1, 'contig00953': 6, 'contig01307': 0, 'contig00137': 0, 'contig01067': 1, 'contig01097': 1, 'contig00296': 0, 'contig00501': 2, 'contig00846': 2, 'contig00602': 1, 'contig01330': 3, 'contig00487': 1, 'contig00062': 0, 'contig00893': 0, 'contig01332': 2, 'contig00006': 4, 'contig00493': 0, 'contig00378': 0, 'contig00995': 16, 'contig01284': 6, 'contig01058': 1, 'contig01363': 0, 'contig00201': 3, 'contig01304': 0, 'contig00630': 0, 'contig00245': 5, 'contig01276': 1, 'contig00087': 2, 'contig01122': 3, 'contig01365': 2, 'contig00371': 6, 'contig01367': 0, 'contig01261': 0, 'contig01303': 0, 'contig00926': 2, 'contig00256': 1, 'contig00321': 1, 'contig00950': 1, 'contig00945': 10, 'contig00026': 0, 'contig01037': 5, 'contig00003': 1, 'contig00600': 0, 'contig01073': 1, 'contig01286': 0, 'contig00236': 5, 'contig00397': 0, 'contig00908': 0, 'contig01047': 4, 'contig00138': 0, 'contig01076': 0, 'contig01180': 1, 'contig01205': 0, 'contig00810': 2, 'contig01350': 0, 'contig00083': 8, 'contig00004': 1, 'contig00583': 0, 'contig00040': 1, 'contig00692': 2, 'contig01114': 4, 'contig01296': 3, 'contig01026': 0, 'contig01298': 6, 'contig00833': 1, 'contig00012': 33, 'contig01189': 1, 'contig00132': 0, 'contig00949': 0, 'contig00101': 0, 'contig00714': 0, 'contig01337': 7, 'contig01002': 2, 'contig00946': 0, 'contig00121': 3, 'contig00520': 2, 'contig00350': 4, 'contig01257': 1, 'contig00355': 0, 'contig00773': 2, 'contig00507': 1, 'contig00820': 3, 'contig00060': 3, 'contig00560': 6, 'contig00499': 1, 'contig00723': 0, 'contig00980': 4, 'contig00306': 7, 'contig00961': 1, 'contig01036': 2, 'contig00759': 1, 'contig00491': 0, 'contig00618': 0, 'contig01183': 1, 'contig00429': 1, 'contig01009': 5, 'contig01011': 0, 'contig00795': 0, 'contig01103': 5, 'contig00459': 1, 'contig01118': 1, 'contig00581': 4, 'contig01192': 0, 'contig00066': 3, 'contig01087': 0, 'contig00558': 0, 'contig01355': 8, 'contig00477': 4, 'contig00116': 1, 'contig01278': 17, 'contig00103': 0, 'contig01062': 3, 'contig00843': 0, 'contig00452': 1, 'contig00399': 0, 'contig01327': 0, 'contig00613': 0, 'contig00735': 0, 'contig00683': 6, 'contig00792': 0, 'contig00247': 9, 'contig01344': 0, 'contig00883': 1, 'contig00939': 1, 'contig00698': 1, 'contig00028': 2, 'contig01214': 1, 'contig00496': 1, 'contig00405': 2, 'contig01250': 1, 'contig00866': 1, 'contig00053': 0, 'contig01198': 3, 'contig00881': 5, 'contig01044': 1, 'contig00747': 7, 'contig00970': 0, 'contig01245': 5, 'contig00985': 2, 'contig00637': 1, 'contig00287': 0, 'contig00203': 2, 'contig00073': 2, 'contig01274': 0, 'contig00745': 0, 'contig00002': 4, 'contig01212': 2, 'contig00157': 2, 'contig00375': 7, 'contig00932': 0, 'contig01141': 2, 'contig01349': 0, 'contig01291': 1, 'contig01230': 0, 'contig00621': 0, 'contig00220': 0, 'contig00418': 0, 'contig00673': 2, 'contig01224': 1, 'contig01240': 3, 'contig00542': 1, 'contig00900': 5, 'contig01277': 2, 'contig00957': 1, 'contig00911': 0, 'contig00898': 0, 'contig00424': 0, 'contig00664': 0, 'contig00938': 0, 'contig00635': 1, 'contig00754': 0, 'contig00521': 0, 'contig00031': 0, 'contig00837': 2, 'contig00788': 4, 'contig00799': 1, 'contig01150': 6, 'contig00481': 1, 'contig01231': 0, 'contig00151': 1, 'contig00606': 0, 'contig00381': 1, 'contig00755': 1, 'contig00867': 2, 'contig00642': 0, 'contig00937': 7, 'contig00008': 10, 'contig01244': 1, 'contig01194': 1, 'contig00526': 2, 'contig00624': 2, 'contig01100': 2, 'contig00597': 3, 'contig01099': 1, 'contig01223': 8, 'contig01351': 0, 'contig01379': 5, 'contig00182': 0, 'contig00027': 0, 'contig00071': 7, 'contig00719': 2, 'contig00374': 2, 'contig00707': 6, 'contig00628': 0, 'contig00039': 6, 'contig01077': 0, 'contig00492': 2, 'contig01043': 5, 'contig00251': 18, 'contig00959': 4, 'contig00265': 0, 'contig00687': 1, 'contig00089': 0, 'contig01308': 2, 'contig01173': 2, 'contig00421': 0, 'contig01232': 4, 'contig01359': 0, 'contig00901': 0, 'contig00904': 7, 'contig01187': 0, 'contig01089': 1, 'contig00996': 0, 'contig00543': 3, 'contig00025': 2, 'contig00658': 2, 'contig00434': 0, 'contig00674': 1, 'contig00538': 2, 'contig00696': 0, 'contig00163': 1, 'contig00198': 0, 'contig01091': 2, 'contig00785': 0, 'contig01322': 3, 'contig00811': 0, 'contig01038': 1, 'contig00030': 3, 'contig00204': 0, 'contig00329': 1, 'contig00441': 0, 'contig01053': 0, 'contig01221': 0, 'contig01123': 4, 'contig00564': 1, 'contig00362': 0, 'contig00644': 0, 'contig00370': 4, 'contig01384': 1, 'contig00565': 2, 'contig00733': 0, 'contig00480': 1, 'contig01142': 0, 'contig00506': 0, 'contig01200': 0, 'contig01275': 1, 'contig00645': 2, 'contig00913': 0, 'contig00640': 2, 'contig00947': 8, 'contig00971': 6, 'contig01133': 0, 'contig01342': 0, 'contig01241': 1, 'contig00225': 2, 'contig01031': 4, 'contig00535': 7, 'contig00426': 1, 'contig00923': 7, 'contig01228': 4, 'contig00229': 0, 'contig00571': 1, 'contig01305': 8, 'contig00234': 3, 'contig01301': 6, 'contig01266': 0, 'contig00534': 2, 'contig00555': 3, 'contig00461': 2, 'contig00647': 1, 'contig00450': 1, 'contig00816': 0, 'contig01333': 3, 'contig00475': 1, 'contig01184': 2, 'contig00836': 2, 'contig00183': 0, 'contig00570': 0, 'contig01084': 1, 'contig01160': 2, 'contig00632': 0, 'contig00855': 0, 'contig01176': 1, 'contig01172': 3, 'contig00649': 0, 'contig00612': 1, 'contig00037': 6, 'contig00789': 2, 'contig01001': 0, 'contig00255': 0, 'contig00407': 0, 'contig00892': 2, 'contig00068': 0, 'contig00906': 6, 'contig00757': 3, 'contig00586': 6, 'contig00998': 6, 'contig01306': 1, 'contig01035': 2, 'contig01315': 1, 'contig01289': 0, 'contig00865': 0, 'contig00199': 0, 'contig00051': 2, 'contig00782': 1, 'contig00717': 0, 'contig00458': 5, 'contig00533': 0, 'contig01375': 3, 'contig01203': 0, 'contig00924': 7, 'contig01369': 3, 'contig00752': 1, 'contig00627': 4}\n"
     ]
    }
   ],
   "source": [
    "for numbers in range(len(contig_name)):\n",
    "    ContigDict[contig_name[numbers]] = aatg_numreads[numbers]\n",
    "print(ContigDict)"
   ]
  },
  {
   "cell_type": "code",
   "execution_count": null,
   "metadata": {
    "collapsed": true
   },
   "outputs": [],
   "source": []
  }
 ],
 "metadata": {
  "anaconda-cloud": {},
  "kernelspec": {
   "display_name": "Python [conda root]",
   "language": "python",
   "name": "conda-root-py"
  },
  "language_info": {
   "codemirror_mode": {
    "name": "ipython",
    "version": 3
   },
   "file_extension": ".py",
   "mimetype": "text/x-python",
   "name": "python",
   "nbconvert_exporter": "python",
   "pygments_lexer": "ipython3",
   "version": "3.5.2"
  }
 },
 "nbformat": 4,
 "nbformat_minor": 2
}
